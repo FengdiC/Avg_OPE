{
 "cells": [
  {
   "cell_type": "code",
   "execution_count": null,
   "metadata": {},
   "outputs": [],
   "source": [
    "import _pickle as pickle\n",
    "import matplotlib.pyplot as plt\n",
    "import numpy as np\n",
    "import os\n",
    "import seaborn as sns\n",
    "\n",
    "from tqdm.notebook import tqdm"
   ]
  },
  {
   "cell_type": "code",
   "execution_count": null,
   "metadata": {},
   "outputs": [],
   "source": [
    "result_dir = \"/Users/chanb/research/ualberta/Avg_OPE/cc_results/results/disc_cop\"\n",
    "env_name = \"hopper\""
   ]
  },
  {
   "cell_type": "code",
   "execution_count": null,
   "metadata": {},
   "outputs": [],
   "source": [
    "baseline = pickle.load(open(os.path.join(result_dir, \"baseline-{}.pkl\".format(env_name)), \"rb\"))\n",
    "\n",
    "all_runs = []\n",
    "all_errors = []\n",
    "for run_file in tqdm(os.listdir(os.path.join(result_dir, env_name))):\n",
    "    run_data = pickle.load(open(os.path.join(result_dir, env_name, run_file), \"rb\"))\n",
    "\n",
    "    all_runs.append(run_file.split(\".pkl\")[0])\n",
    "    all_errors.append([])\n",
    "\n",
    "    for seed in run_data[\"seeds\"]:\n",
    "        all_errors[-1].append((np.array(run_data[\"results\"][seed][1]) - baseline[seed][run_data[\"hyperparameters\"][\"discount\"]][0]) ** 2)"
   ]
  },
  {
   "cell_type": "code",
   "execution_count": null,
   "metadata": {},
   "outputs": [],
   "source": [
    "run_data"
   ]
  },
  {
   "cell_type": "code",
   "execution_count": null,
   "metadata": {},
   "outputs": [],
   "source": [
    "all_runs = np.array(all_runs)"
   ]
  },
  {
   "cell_type": "code",
   "execution_count": null,
   "metadata": {},
   "outputs": [],
   "source": [
    "all_errors = np.array(all_errors)"
   ]
  },
  {
   "cell_type": "code",
   "execution_count": null,
   "metadata": {},
   "outputs": [],
   "source": [
    "mse_per_run = np.mean(all_errors, axis=(1, 2))"
   ]
  },
  {
   "cell_type": "code",
   "execution_count": null,
   "metadata": {},
   "outputs": [],
   "source": [
    "sort_idxes = np.argsort(mse_per_run)"
   ]
  },
  {
   "cell_type": "code",
   "execution_count": null,
   "metadata": {},
   "outputs": [],
   "source": [
    "top_k = 5\n",
    "\n",
    "fig, ax = plt.subplots(1, 1, figsize=(10, 10))\n",
    "for run_name, errors in zip(all_runs[sort_idxes][:top_k], all_errors[sort_idxes][:top_k]):\n",
    "    print(run_name)\n",
    "\n",
    "    # log_errors = np.log10(errors)\n",
    "    log_errors = (errors)\n",
    "    mean_errors = np.mean(log_errors, axis=0)\n",
    "    std_errors = np.std(log_errors, axis=0) / np.sqrt(len(log_errors))\n",
    "    ax.plot(np.arange(errors.shape[1]), mean_errors)\n",
    "    ax.fill_between(np.arange(errors.shape[1]), mean_errors + std_errors, mean_errors - std_errors, alpha=0.2)\n",
    "fig.tight_layout()\n",
    "plt.show()"
   ]
  },
  {
   "cell_type": "code",
   "execution_count": null,
   "metadata": {},
   "outputs": [],
   "source": []
  }
 ],
 "metadata": {
  "kernelspec": {
   "display_name": ".venv",
   "language": "python",
   "name": "python3"
  },
  "language_info": {
   "codemirror_mode": {
    "name": "ipython",
    "version": 3
   },
   "file_extension": ".py",
   "mimetype": "text/x-python",
   "name": "python",
   "nbconvert_exporter": "python",
   "pygments_lexer": "ipython3",
   "version": "3.11.6"
  }
 },
 "nbformat": 4,
 "nbformat_minor": 2
}
