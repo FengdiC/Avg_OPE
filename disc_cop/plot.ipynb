{
 "cells": [
  {
   "cell_type": "code",
   "execution_count": 1,
   "metadata": {},
   "outputs": [],
   "source": [
    "import _pickle as pickle\n",
    "import matplotlib.pyplot as plt\n",
    "import numpy as np\n",
    "import os\n",
    "import seaborn as sns\n",
    "\n",
    "from tqdm.notebook import tqdm"
   ]
  },
  {
   "cell_type": "code",
   "execution_count": 2,
   "metadata": {},
   "outputs": [],
   "source": [
    "# result_dir = \"/Users/chanb/research/ualberta/Avg_OPE/cc_results/results/disc_cop\"\n",
    "result_dir = \"/Users/chanb/research/ualberta/Avg_OPE/cc_results/hyperparameter_tune/results\"\n",
    "env_name = \"cartpole\""
   ]
  },
  {
   "cell_type": "code",
   "execution_count": 6,
   "metadata": {},
   "outputs": [
    {
     "data": {
      "text/plain": [
       "{'seeds': range(0, 10),\n",
       " 'env_name': 'cartpole',\n",
       " 'hyperparameters': {'lr': 0.0001,\n",
       "  'env': 'CartPole-v1',\n",
       "  'policy_path': '/home/chanb/src/Avg_OPE/exper/cartpole.pth',\n",
       "  'link': 'default',\n",
       "  'random_weight': 0.5,\n",
       "  'l1_lambda': 0.1,\n",
       "  'checkpoint': 5,\n",
       "  'epoch': 2000,\n",
       "  'cv_fold': 1,\n",
       "  'batch_size': 256,\n",
       "  'max_ep': 40,\n",
       "  'max_len': 100,\n",
       "  'use_batch_norm': True,\n",
       "  'use_target_network': False,\n",
       "  'discount': 0.95,\n",
       "  'cop_discount': 0.95,\n",
       "  'tau': 0.0005,\n",
       "  'baseline_path': '/home/chanb/scratch/disc_cop/results/baseline-cartpole.pkl',\n",
       "  'save_path': '/home/chanb/scratch/disc_cop/results/saved_models/cartpole'},\n",
       " 'results': {}}"
      ]
     },
     "execution_count": 6,
     "metadata": {},
     "output_type": "execute_result"
    }
   ],
   "source": [
    "run_data"
   ]
  },
  {
   "cell_type": "code",
   "execution_count": 5,
   "metadata": {},
   "outputs": [
    {
     "data": {
      "application/vnd.jupyter.widget-view+json": {
       "model_id": "239aa63c49074b9fa9d0debb14d45afe",
       "version_major": 2,
       "version_minor": 0
      },
      "text/plain": [
       "  0%|          | 0/48 [00:00<?, ?it/s]"
      ]
     },
     "metadata": {},
     "output_type": "display_data"
    },
    {
     "ename": "KeyError",
     "evalue": "0",
     "output_type": "error",
     "traceback": [
      "\u001b[0;31m---------------------------------------------------------------------------\u001b[0m",
      "\u001b[0;31mKeyError\u001b[0m                                  Traceback (most recent call last)",
      "Cell \u001b[0;32mIn[5], line 16\u001b[0m\n\u001b[1;32m     13\u001b[0m all_errors\u001b[38;5;241m.\u001b[39mappend([])\n\u001b[1;32m     15\u001b[0m \u001b[38;5;28;01mfor\u001b[39;00m seed \u001b[38;5;129;01min\u001b[39;00m run_data[\u001b[38;5;124m\"\u001b[39m\u001b[38;5;124mseeds\u001b[39m\u001b[38;5;124m\"\u001b[39m]:\n\u001b[0;32m---> 16\u001b[0m     all_errors[\u001b[38;5;241m-\u001b[39m\u001b[38;5;241m1\u001b[39m]\u001b[38;5;241m.\u001b[39mappend((np\u001b[38;5;241m.\u001b[39marray(\u001b[43mrun_data\u001b[49m\u001b[43m[\u001b[49m\u001b[38;5;124;43m\"\u001b[39;49m\u001b[38;5;124;43mresults\u001b[39;49m\u001b[38;5;124;43m\"\u001b[39;49m\u001b[43m]\u001b[49m\u001b[43m[\u001b[49m\u001b[43mseed\u001b[49m\u001b[43m]\u001b[49m[\u001b[38;5;241m1\u001b[39m]) \u001b[38;5;241m-\u001b[39m baseline[seed][run_data[\u001b[38;5;124m\"\u001b[39m\u001b[38;5;124mhyperparameters\u001b[39m\u001b[38;5;124m\"\u001b[39m][\u001b[38;5;124m\"\u001b[39m\u001b[38;5;124mdiscount\u001b[39m\u001b[38;5;124m\"\u001b[39m]][\u001b[38;5;241m0\u001b[39m]) \u001b[38;5;241m*\u001b[39m\u001b[38;5;241m*\u001b[39m \u001b[38;5;241m2\u001b[39m)\n",
      "\u001b[0;31mKeyError\u001b[0m: 0"
     ]
    }
   ],
   "source": [
    "baseline = pickle.load(open(os.path.join(result_dir, \"baseline-{}.pkl\".format(env_name)), \"rb\"))\n",
    "\n",
    "all_runs = []\n",
    "all_errors = []\n",
    "for run_file in tqdm(os.listdir(os.path.join(result_dir, env_name))):\n",
    "    run_data = pickle.load(open(os.path.join(result_dir, env_name, run_file), \"rb\"))\n",
    "\n",
    "    # if len(run_data[\"results\"]) == 0:\n",
    "    #     print(run_file)\n",
    "    #     continue\n",
    "\n",
    "    all_runs.append(run_file.split(\".pkl\")[0])\n",
    "    all_errors.append([])\n",
    "\n",
    "    for seed in run_data[\"seeds\"]:\n",
    "        all_errors[-1].append((np.array(run_data[\"results\"][seed][1]) - baseline[seed][run_data[\"hyperparameters\"][\"discount\"]][0]) ** 2)"
   ]
  },
  {
   "cell_type": "code",
   "execution_count": 13,
   "metadata": {},
   "outputs": [],
   "source": [
    "all_runs = np.array(all_runs)"
   ]
  },
  {
   "cell_type": "code",
   "execution_count": 14,
   "metadata": {},
   "outputs": [],
   "source": [
    "all_errors = np.array(all_errors)"
   ]
  },
  {
   "cell_type": "code",
   "execution_count": 15,
   "metadata": {},
   "outputs": [],
   "source": [
    "mse_per_run = np.mean(all_errors, axis=(1, 2))"
   ]
  },
  {
   "cell_type": "code",
   "execution_count": 16,
   "metadata": {},
   "outputs": [],
   "source": [
    "sort_idxes = np.argsort(mse_per_run)"
   ]
  },
  {
   "cell_type": "code",
   "execution_count": null,
   "metadata": {},
   "outputs": [],
   "source": [
    "mse_per_run[sort_idxes]"
   ]
  },
  {
   "cell_type": "code",
   "execution_count": null,
   "metadata": {},
   "outputs": [],
   "source": [
    "top_k = 5\n",
    "\n",
    "fig, ax = plt.subplots(1, 1, figsize=(10, 10))\n",
    "for run_name, errors in zip(all_runs[sort_idxes][:top_k], all_errors[sort_idxes][:top_k]):\n",
    "    print(run_name)\n",
    "\n",
    "    # log_errors = np.log10(errors)\n",
    "    log_errors = (errors)\n",
    "    mean_errors = np.mean(log_errors, axis=0)\n",
    "    std_errors = np.std(log_errors, axis=0) / np.sqrt(len(log_errors))\n",
    "    ax.plot(np.arange(errors.shape[1]), mean_errors)\n",
    "    ax.fill_between(np.arange(errors.shape[1]), mean_errors + std_errors, mean_errors - std_errors, alpha=0.2)\n",
    "fig.tight_layout()\n",
    "plt.show()"
   ]
  },
  {
   "cell_type": "code",
   "execution_count": null,
   "metadata": {},
   "outputs": [],
   "source": []
  }
 ],
 "metadata": {
  "kernelspec": {
   "display_name": ".venv",
   "language": "python",
   "name": "python3"
  },
  "language_info": {
   "codemirror_mode": {
    "name": "ipython",
    "version": 3
   },
   "file_extension": ".py",
   "mimetype": "text/x-python",
   "name": "python",
   "nbconvert_exporter": "python",
   "pygments_lexer": "ipython3",
   "version": "3.11.9"
  }
 },
 "nbformat": 4,
 "nbformat_minor": 2
}
