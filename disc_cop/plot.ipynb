{
 "cells": [
  {
   "cell_type": "code",
   "execution_count": 1,
   "metadata": {},
   "outputs": [],
   "source": [
    "import sys\n",
    "\n",
    "sys.path.insert(0, \"..\")\n",
    "sys.path.insert(0, \"../disc_cop\")\n",
    "from disc_cop.envs import ENV_TO_FAMILY, ENVS"
   ]
  },
  {
   "cell_type": "code",
   "execution_count": 16,
   "metadata": {},
   "outputs": [],
   "source": [
    "import _pickle as pickle\n",
    "import matplotlib.pyplot as plt\n",
    "import numpy as np\n",
    "import os\n",
    "import seaborn as sns\n",
    "import pandas as pd\n",
    "\n",
    "from tqdm.notebook import tqdm"
   ]
  },
  {
   "cell_type": "code",
   "execution_count": 23,
   "metadata": {},
   "outputs": [],
   "source": [
    "baseline_dir = \"/Users/chanb/research/ualberta/Avg_OPE/datasets\"\n",
    "\n",
    "# result_dir = \"/Users/chanb/research/ualberta/Avg_OPE/cc_results/results/disc_cop\"\n",
    "result_dir = \"/Users/chanb/research/ualberta/Avg_OPE/cc_results/hyperparameter_tune/results\"\n",
    "env_name = \"cartpole\"\n",
    "\n",
    "stats_file = \"hyperparameter_tune.feather\""
   ]
  },
  {
   "cell_type": "code",
   "execution_count": 21,
   "metadata": {},
   "outputs": [
    {
     "data": {
      "application/vnd.jupyter.widget-view+json": {
       "model_id": "63057113a72b4390885ab6439b0e7fdc",
       "version_major": 2,
       "version_minor": 0
      },
      "text/plain": [
       "  0%|          | 0/24 [00:00<?, ?it/s]"
      ]
     },
     "metadata": {},
     "output_type": "display_data"
    },
    {
     "data": {
      "application/vnd.jupyter.widget-view+json": {
       "model_id": "0b90f0df465e4696ab2b39e80105b2dc",
       "version_major": 2,
       "version_minor": 0
      },
      "text/plain": [
       "  0%|          | 0/24 [00:00<?, ?it/s]"
      ]
     },
     "metadata": {},
     "output_type": "display_data"
    },
    {
     "data": {
      "application/vnd.jupyter.widget-view+json": {
       "model_id": "fdb500d59bea44f2ab060be5bb279022",
       "version_major": 2,
       "version_minor": 0
      },
      "text/plain": [
       "  0%|          | 0/24 [00:00<?, ?it/s]"
      ]
     },
     "metadata": {},
     "output_type": "display_data"
    },
    {
     "data": {
      "application/vnd.jupyter.widget-view+json": {
       "model_id": "c766b8f0689042aa854cf43944b36e1f",
       "version_major": 2,
       "version_minor": 0
      },
      "text/plain": [
       "  0%|          | 0/24 [00:00<?, ?it/s]"
      ]
     },
     "metadata": {},
     "output_type": "display_data"
    },
    {
     "name": "stdout",
     "output_type": "stream",
     "text": [
      "mse-tune-random_weight_2.0-discount_factor_0.95-max_ep_40-max_len_100-link_default-batch_size_512-bootstrap_target_target_network-lr_0.001-alpha_0.1.pkl\n",
      "mse-tune-random_weight_2.0-discount_factor_0.95-max_ep_40-max_len_100-link_default-batch_size_512-bootstrap_target_target_network-lr_0.005-alpha_0.0.pkl\n",
      "mse-tune-random_weight_2.0-discount_factor_0.95-max_ep_40-max_len_100-link_default-batch_size_512-bootstrap_target_target_network-lr_0.005-alpha_0.1.pkl\n",
      "mse-tune-random_weight_2.0-discount_factor_0.95-max_ep_40-max_len_100-link_default-batch_size_512-bootstrap_target_target_network-lr_0.001-alpha_0.0.pkl\n",
      "mse-tune-random_weight_2.0-discount_factor_0.95-max_ep_40-max_len_100-link_default-batch_size_512-bootstrap_target_target_network-lr_0.005-alpha_0.01.pkl\n",
      "mse-tune-random_weight_2.0-discount_factor_0.95-max_ep_40-max_len_100-link_default-batch_size_512-bootstrap_target_target_network-lr_0.001-alpha_0.01.pkl\n",
      "mse-tune-random_weight_2.0-discount_factor_0.95-max_ep_40-max_len_100-link_default-batch_size_512-bootstrap_target_cross_q-lr_0.0005-alpha_0.0.pkl\n",
      "mse-tune-random_weight_2.0-discount_factor_0.95-max_ep_40-max_len_100-link_default-batch_size_512-bootstrap_target_cross_q-lr_0.0001-alpha_0.1.pkl\n",
      "mse-tune-random_weight_2.0-discount_factor_0.95-max_ep_40-max_len_100-link_default-batch_size_512-bootstrap_target_cross_q-lr_0.0001-alpha_0.0.pkl\n",
      "mse-tune-random_weight_2.0-discount_factor_0.95-max_ep_40-max_len_100-link_default-batch_size_512-bootstrap_target_cross_q-lr_0.0005-alpha_0.1.pkl\n",
      "mse-tune-random_weight_2.0-discount_factor_0.95-max_ep_40-max_len_100-link_default-batch_size_512-bootstrap_target_target_network-lr_0.0005-alpha_0.01.pkl\n",
      "mse-tune-random_weight_2.0-discount_factor_0.95-max_ep_40-max_len_100-link_default-batch_size_512-bootstrap_target_cross_q-lr_0.005-alpha_0.01.pkl\n",
      "mse-tune-random_weight_2.0-discount_factor_0.95-max_ep_40-max_len_100-link_default-batch_size_512-bootstrap_target_cross_q-lr_0.0001-alpha_0.01.pkl\n",
      "mse-tune-random_weight_2.0-discount_factor_0.95-max_ep_40-max_len_100-link_default-batch_size_512-bootstrap_target_target_network-lr_0.0001-alpha_0.01.pkl\n",
      "mse-tune-random_weight_2.0-discount_factor_0.95-max_ep_40-max_len_100-link_default-batch_size_512-bootstrap_target_cross_q-lr_0.005-alpha_0.1.pkl\n",
      "mse-tune-random_weight_2.0-discount_factor_0.95-max_ep_40-max_len_100-link_default-batch_size_512-bootstrap_target_cross_q-lr_0.001-alpha_0.0.pkl\n",
      "mse-tune-random_weight_2.0-discount_factor_0.95-max_ep_40-max_len_100-link_default-batch_size_512-bootstrap_target_cross_q-lr_0.001-alpha_0.1.pkl\n",
      "mse-tune-random_weight_2.0-discount_factor_0.95-max_ep_40-max_len_100-link_default-batch_size_512-bootstrap_target_cross_q-lr_0.005-alpha_0.0.pkl\n",
      "mse-tune-random_weight_2.0-discount_factor_0.95-max_ep_40-max_len_100-link_default-batch_size_512-bootstrap_target_cross_q-lr_0.0005-alpha_0.01.pkl\n",
      "mse-tune-random_weight_2.0-discount_factor_0.95-max_ep_40-max_len_100-link_default-batch_size_512-bootstrap_target_target_network-lr_0.0001-alpha_0.1.pkl\n",
      "mse-tune-random_weight_2.0-discount_factor_0.95-max_ep_40-max_len_100-link_default-batch_size_512-bootstrap_target_cross_q-lr_0.001-alpha_0.01.pkl\n",
      "mse-tune-random_weight_2.0-discount_factor_0.95-max_ep_40-max_len_100-link_default-batch_size_512-bootstrap_target_target_network-lr_0.0005-alpha_0.0.pkl\n",
      "mse-tune-random_weight_2.0-discount_factor_0.95-max_ep_40-max_len_100-link_default-batch_size_512-bootstrap_target_target_network-lr_0.0005-alpha_0.1.pkl\n",
      "mse-tune-random_weight_2.0-discount_factor_0.95-max_ep_40-max_len_100-link_default-batch_size_512-bootstrap_target_target_network-lr_0.0001-alpha_0.0.pkl\n"
     ]
    },
    {
     "data": {
      "application/vnd.jupyter.widget-view+json": {
       "model_id": "c941c1319bf948f0ae3b9fdb08f98b9d",
       "version_major": 2,
       "version_minor": 0
      },
      "text/plain": [
       "  0%|          | 0/24 [00:00<?, ?it/s]"
      ]
     },
     "metadata": {},
     "output_type": "display_data"
    },
    {
     "data": {
      "application/vnd.jupyter.widget-view+json": {
       "model_id": "1b3772b4ecb645369cba490c5386cf27",
       "version_major": 2,
       "version_minor": 0
      },
      "text/plain": [
       "  0%|          | 0/24 [00:00<?, ?it/s]"
      ]
     },
     "metadata": {},
     "output_type": "display_data"
    },
    {
     "data": {
      "application/vnd.jupyter.widget-view+json": {
       "model_id": "4121b36fbfac41b8bbc5928fed337df5",
       "version_major": 2,
       "version_minor": 0
      },
      "text/plain": [
       "  0%|          | 0/24 [00:00<?, ?it/s]"
      ]
     },
     "metadata": {},
     "output_type": "display_data"
    },
    {
     "name": "stdout",
     "output_type": "stream",
     "text": [
      "mountain_car skipped\n"
     ]
    },
    {
     "data": {
      "application/vnd.jupyter.widget-view+json": {
       "model_id": "d77ebd8264a543fcbea3de6708094c82",
       "version_major": 2,
       "version_minor": 0
      },
      "text/plain": [
       "  0%|          | 0/24 [00:00<?, ?it/s]"
      ]
     },
     "metadata": {},
     "output_type": "display_data"
    },
    {
     "name": "stdout",
     "output_type": "stream",
     "text": [
      "mse-tune-random_weight_0.3-discount_factor_0.95-max_ep_40-max_len_100-link_default-batch_size_512-bootstrap_target_target_network-lr_0.0005-alpha_0.1.pkl\n",
      "mse-tune-random_weight_0.3-discount_factor_0.95-max_ep_40-max_len_100-link_default-batch_size_512-bootstrap_target_target_network-lr_0.0001-alpha_0.0.pkl\n",
      "mse-tune-random_weight_0.3-discount_factor_0.95-max_ep_40-max_len_100-link_default-batch_size_512-bootstrap_target_target_network-lr_0.0001-alpha_0.1.pkl\n",
      "mse-tune-random_weight_0.3-discount_factor_0.95-max_ep_40-max_len_100-link_default-batch_size_512-bootstrap_target_target_network-lr_0.0005-alpha_0.0.pkl\n",
      "mse-tune-random_weight_0.3-discount_factor_0.95-max_ep_40-max_len_100-link_default-batch_size_512-bootstrap_target_cross_q-lr_0.0005-alpha_0.01.pkl\n",
      "mse-tune-random_weight_0.3-discount_factor_0.95-max_ep_40-max_len_100-link_default-batch_size_512-bootstrap_target_target_network-lr_0.0005-alpha_0.01.pkl\n",
      "mse-tune-random_weight_0.3-discount_factor_0.95-max_ep_40-max_len_100-link_default-batch_size_512-bootstrap_target_cross_q-lr_0.0001-alpha_0.01.pkl\n",
      "mse-tune-random_weight_0.3-discount_factor_0.95-max_ep_40-max_len_100-link_default-batch_size_512-bootstrap_target_cross_q-lr_0.005-alpha_0.1.pkl\n",
      "mse-tune-random_weight_0.3-discount_factor_0.95-max_ep_40-max_len_100-link_default-batch_size_512-bootstrap_target_cross_q-lr_0.001-alpha_0.0.pkl\n",
      "mse-tune-random_weight_0.3-discount_factor_0.95-max_ep_40-max_len_100-link_default-batch_size_512-bootstrap_target_cross_q-lr_0.001-alpha_0.1.pkl\n",
      "mse-tune-random_weight_0.3-discount_factor_0.95-max_ep_40-max_len_100-link_default-batch_size_512-bootstrap_target_cross_q-lr_0.005-alpha_0.0.pkl\n",
      "mse-tune-random_weight_0.3-discount_factor_0.95-max_ep_40-max_len_100-link_default-batch_size_512-bootstrap_target_cross_q-lr_0.0005-alpha_0.1.pkl\n",
      "mse-tune-random_weight_0.3-discount_factor_0.95-max_ep_40-max_len_100-link_default-batch_size_512-bootstrap_target_cross_q-lr_0.0001-alpha_0.0.pkl\n",
      "mse-tune-random_weight_0.3-discount_factor_0.95-max_ep_40-max_len_100-link_default-batch_size_512-bootstrap_target_cross_q-lr_0.0001-alpha_0.1.pkl\n",
      "mse-tune-random_weight_0.3-discount_factor_0.95-max_ep_40-max_len_100-link_default-batch_size_512-bootstrap_target_cross_q-lr_0.0005-alpha_0.0.pkl\n",
      "mse-tune-random_weight_0.3-discount_factor_0.95-max_ep_40-max_len_100-link_default-batch_size_512-bootstrap_target_target_network-lr_0.001-alpha_0.1.pkl\n",
      "mse-tune-random_weight_0.3-discount_factor_0.95-max_ep_40-max_len_100-link_default-batch_size_512-bootstrap_target_target_network-lr_0.005-alpha_0.0.pkl\n",
      "mse-tune-random_weight_0.3-discount_factor_0.95-max_ep_40-max_len_100-link_default-batch_size_512-bootstrap_target_target_network-lr_0.005-alpha_0.1.pkl\n",
      "mse-tune-random_weight_0.3-discount_factor_0.95-max_ep_40-max_len_100-link_default-batch_size_512-bootstrap_target_target_network-lr_0.0001-alpha_0.01.pkl\n",
      "mse-tune-random_weight_0.3-discount_factor_0.95-max_ep_40-max_len_100-link_default-batch_size_512-bootstrap_target_target_network-lr_0.001-alpha_0.0.pkl\n",
      "mse-tune-random_weight_0.3-discount_factor_0.95-max_ep_40-max_len_100-link_default-batch_size_512-bootstrap_target_cross_q-lr_0.005-alpha_0.01.pkl\n",
      "mse-tune-random_weight_0.3-discount_factor_0.95-max_ep_40-max_len_100-link_default-batch_size_512-bootstrap_target_target_network-lr_0.001-alpha_0.01.pkl\n",
      "mse-tune-random_weight_0.3-discount_factor_0.95-max_ep_40-max_len_100-link_default-batch_size_512-bootstrap_target_cross_q-lr_0.001-alpha_0.01.pkl\n",
      "mse-tune-random_weight_0.3-discount_factor_0.95-max_ep_40-max_len_100-link_default-batch_size_512-bootstrap_target_target_network-lr_0.005-alpha_0.01.pkl\n"
     ]
    }
   ],
   "source": [
    "stats = []\n",
    "\n",
    "for env_name in ENV_TO_FAMILY:\n",
    "    mujoco = ENV_TO_FAMILY[env_name] == \"mujoco\"\n",
    "\n",
    "    if mujoco:\n",
    "        baseline_path = os.path.join(baseline_dir, \"mujoco_obj.pkl\")\n",
    "    else:\n",
    "        baseline_path = os.path.join(baseline_dir, \"classic_obj.pkl\")\n",
    "\n",
    "    try:\n",
    "        baselines = pickle.load(open(baseline_path, \"rb\"))[ENVS[ENV_TO_FAMILY[env_name]][env_name][0]]\n",
    "    except:\n",
    "        print(\"{} skipped\".format(env_name))\n",
    "\n",
    "    for run_file in tqdm(os.listdir(os.path.join(result_dir, env_name))):\n",
    "        run_data = pickle.load(open(os.path.join(result_dir, env_name, run_file), \"rb\"))\n",
    "\n",
    "        if len(run_data[\"results\"]) == 0:\n",
    "            print(run_file)\n",
    "            continue\n",
    "\n",
    "        gamma = run_data[\"hyperparameters\"][\"discount\"]\n",
    "        curr_baseline = baselines[\n",
    "            [0.8, 0.9, 0.95, 0.99, 0.995].index(gamma)\n",
    "        ]\n",
    "\n",
    "        curr_res = []\n",
    "        for seed in run_data[\"seeds\"]:\n",
    "            curr_res.append((np.array(run_data[\"results\"][seed][1]) - curr_baseline) ** 2)\n",
    "\n",
    "        stats.append(\n",
    "            {\n",
    "                \"errors\": curr_res,\n",
    "                **run_data[\"hyperparameters\"]\n",
    "            }\n",
    "        )"
   ]
  },
  {
   "cell_type": "code",
   "execution_count": 24,
   "metadata": {},
   "outputs": [],
   "source": [
    "stats = pd.DataFrame(stats)\n",
    "stats.to_feather(stats_file)"
   ]
  },
  {
   "cell_type": "code",
   "execution_count": 25,
   "metadata": {},
   "outputs": [
    {
     "data": {
      "text/html": [
       "<div>\n",
       "<style scoped>\n",
       "    .dataframe tbody tr th:only-of-type {\n",
       "        vertical-align: middle;\n",
       "    }\n",
       "\n",
       "    .dataframe tbody tr th {\n",
       "        vertical-align: top;\n",
       "    }\n",
       "\n",
       "    .dataframe thead th {\n",
       "        text-align: right;\n",
       "    }\n",
       "</style>\n",
       "<table border=\"1\" class=\"dataframe\">\n",
       "  <thead>\n",
       "    <tr style=\"text-align: right;\">\n",
       "      <th></th>\n",
       "      <th>errors</th>\n",
       "      <th>lr</th>\n",
       "      <th>env</th>\n",
       "      <th>policy_path</th>\n",
       "      <th>link</th>\n",
       "      <th>random_weight</th>\n",
       "      <th>l1_lambda</th>\n",
       "      <th>checkpoint</th>\n",
       "      <th>epoch</th>\n",
       "      <th>cv_fold</th>\n",
       "      <th>batch_size</th>\n",
       "      <th>max_ep</th>\n",
       "      <th>max_len</th>\n",
       "      <th>use_batch_norm</th>\n",
       "      <th>use_target_network</th>\n",
       "      <th>discount</th>\n",
       "      <th>cop_discount</th>\n",
       "      <th>tau</th>\n",
       "      <th>save_path</th>\n",
       "    </tr>\n",
       "  </thead>\n",
       "  <tbody>\n",
       "    <tr>\n",
       "      <th>0</th>\n",
       "      <td>[[19.74001724399451, 11.525743643350763, 16.66...</td>\n",
       "      <td>0.001</td>\n",
       "      <td>Ant-v4</td>\n",
       "      <td>/home/chanb/src/Avg_OPE/exper/ant.pth</td>\n",
       "      <td>default</td>\n",
       "      <td>2.0</td>\n",
       "      <td>0.10</td>\n",
       "      <td>5</td>\n",
       "      <td>50000</td>\n",
       "      <td>1</td>\n",
       "      <td>512</td>\n",
       "      <td>40</td>\n",
       "      <td>100</td>\n",
       "      <td>False</td>\n",
       "      <td>True</td>\n",
       "      <td>0.95</td>\n",
       "      <td>0.95</td>\n",
       "      <td>0.0005</td>\n",
       "      <td>/home/chanb/scratch/disc_cop/results/saved_mod...</td>\n",
       "    </tr>\n",
       "    <tr>\n",
       "      <th>1</th>\n",
       "      <td>[[46.14155713133622, 5.674846784833404, 4.7658...</td>\n",
       "      <td>0.005</td>\n",
       "      <td>Ant-v4</td>\n",
       "      <td>/home/chanb/src/Avg_OPE/exper/ant.pth</td>\n",
       "      <td>default</td>\n",
       "      <td>2.0</td>\n",
       "      <td>0.00</td>\n",
       "      <td>5</td>\n",
       "      <td>50000</td>\n",
       "      <td>1</td>\n",
       "      <td>512</td>\n",
       "      <td>40</td>\n",
       "      <td>100</td>\n",
       "      <td>False</td>\n",
       "      <td>True</td>\n",
       "      <td>0.95</td>\n",
       "      <td>0.95</td>\n",
       "      <td>0.0005</td>\n",
       "      <td>/home/chanb/scratch/disc_cop/results/saved_mod...</td>\n",
       "    </tr>\n",
       "    <tr>\n",
       "      <th>2</th>\n",
       "      <td>[[50.662529617441685, 6.418897506078319, 5.129...</td>\n",
       "      <td>0.005</td>\n",
       "      <td>Ant-v4</td>\n",
       "      <td>/home/chanb/src/Avg_OPE/exper/ant.pth</td>\n",
       "      <td>default</td>\n",
       "      <td>2.0</td>\n",
       "      <td>0.10</td>\n",
       "      <td>5</td>\n",
       "      <td>50000</td>\n",
       "      <td>1</td>\n",
       "      <td>512</td>\n",
       "      <td>40</td>\n",
       "      <td>100</td>\n",
       "      <td>False</td>\n",
       "      <td>True</td>\n",
       "      <td>0.95</td>\n",
       "      <td>0.95</td>\n",
       "      <td>0.0005</td>\n",
       "      <td>/home/chanb/scratch/disc_cop/results/saved_mod...</td>\n",
       "    </tr>\n",
       "    <tr>\n",
       "      <th>3</th>\n",
       "      <td>[[19.271652493529896, 10.701166363337775, 16.7...</td>\n",
       "      <td>0.001</td>\n",
       "      <td>Ant-v4</td>\n",
       "      <td>/home/chanb/src/Avg_OPE/exper/ant.pth</td>\n",
       "      <td>default</td>\n",
       "      <td>2.0</td>\n",
       "      <td>0.00</td>\n",
       "      <td>5</td>\n",
       "      <td>50000</td>\n",
       "      <td>1</td>\n",
       "      <td>512</td>\n",
       "      <td>40</td>\n",
       "      <td>100</td>\n",
       "      <td>False</td>\n",
       "      <td>True</td>\n",
       "      <td>0.95</td>\n",
       "      <td>0.95</td>\n",
       "      <td>0.0005</td>\n",
       "      <td>/home/chanb/scratch/disc_cop/results/saved_mod...</td>\n",
       "    </tr>\n",
       "    <tr>\n",
       "      <th>4</th>\n",
       "      <td>[[47.736955960687126, 5.771766157294148, 4.879...</td>\n",
       "      <td>0.005</td>\n",
       "      <td>Ant-v4</td>\n",
       "      <td>/home/chanb/src/Avg_OPE/exper/ant.pth</td>\n",
       "      <td>default</td>\n",
       "      <td>2.0</td>\n",
       "      <td>0.01</td>\n",
       "      <td>5</td>\n",
       "      <td>50000</td>\n",
       "      <td>1</td>\n",
       "      <td>512</td>\n",
       "      <td>40</td>\n",
       "      <td>100</td>\n",
       "      <td>False</td>\n",
       "      <td>True</td>\n",
       "      <td>0.95</td>\n",
       "      <td>0.95</td>\n",
       "      <td>0.0005</td>\n",
       "      <td>/home/chanb/scratch/disc_cop/results/saved_mod...</td>\n",
       "    </tr>\n",
       "    <tr>\n",
       "      <th>...</th>\n",
       "      <td>...</td>\n",
       "      <td>...</td>\n",
       "      <td>...</td>\n",
       "      <td>...</td>\n",
       "      <td>...</td>\n",
       "      <td>...</td>\n",
       "      <td>...</td>\n",
       "      <td>...</td>\n",
       "      <td>...</td>\n",
       "      <td>...</td>\n",
       "      <td>...</td>\n",
       "      <td>...</td>\n",
       "      <td>...</td>\n",
       "      <td>...</td>\n",
       "      <td>...</td>\n",
       "      <td>...</td>\n",
       "      <td>...</td>\n",
       "      <td>...</td>\n",
       "      <td>...</td>\n",
       "    </tr>\n",
       "    <tr>\n",
       "      <th>139</th>\n",
       "      <td>[[58.34516988309245, 4.521298488955746, 13.507...</td>\n",
       "      <td>0.001</td>\n",
       "      <td>CartPole-v1</td>\n",
       "      <td>/home/chanb/src/Avg_OPE/exper/cartpole.pth</td>\n",
       "      <td>default</td>\n",
       "      <td>0.3</td>\n",
       "      <td>0.00</td>\n",
       "      <td>5</td>\n",
       "      <td>2000</td>\n",
       "      <td>1</td>\n",
       "      <td>512</td>\n",
       "      <td>40</td>\n",
       "      <td>100</td>\n",
       "      <td>False</td>\n",
       "      <td>True</td>\n",
       "      <td>0.95</td>\n",
       "      <td>0.95</td>\n",
       "      <td>0.0005</td>\n",
       "      <td>/home/chanb/scratch/disc_cop/results/saved_mod...</td>\n",
       "    </tr>\n",
       "    <tr>\n",
       "      <th>140</th>\n",
       "      <td>[[27.10121778531593, 26.70229230104881, 18.886...</td>\n",
       "      <td>0.005</td>\n",
       "      <td>CartPole-v1</td>\n",
       "      <td>/home/chanb/src/Avg_OPE/exper/cartpole.pth</td>\n",
       "      <td>default</td>\n",
       "      <td>0.3</td>\n",
       "      <td>0.01</td>\n",
       "      <td>5</td>\n",
       "      <td>2000</td>\n",
       "      <td>1</td>\n",
       "      <td>512</td>\n",
       "      <td>40</td>\n",
       "      <td>100</td>\n",
       "      <td>True</td>\n",
       "      <td>False</td>\n",
       "      <td>0.95</td>\n",
       "      <td>0.95</td>\n",
       "      <td>0.0005</td>\n",
       "      <td>/home/chanb/scratch/disc_cop/results/saved_mod...</td>\n",
       "    </tr>\n",
       "    <tr>\n",
       "      <th>141</th>\n",
       "      <td>[[37.32690236843865, 3.7611789145518517, 14.92...</td>\n",
       "      <td>0.001</td>\n",
       "      <td>CartPole-v1</td>\n",
       "      <td>/home/chanb/src/Avg_OPE/exper/cartpole.pth</td>\n",
       "      <td>default</td>\n",
       "      <td>0.3</td>\n",
       "      <td>0.01</td>\n",
       "      <td>5</td>\n",
       "      <td>2000</td>\n",
       "      <td>1</td>\n",
       "      <td>512</td>\n",
       "      <td>40</td>\n",
       "      <td>100</td>\n",
       "      <td>False</td>\n",
       "      <td>True</td>\n",
       "      <td>0.95</td>\n",
       "      <td>0.95</td>\n",
       "      <td>0.0005</td>\n",
       "      <td>/home/chanb/scratch/disc_cop/results/saved_mod...</td>\n",
       "    </tr>\n",
       "    <tr>\n",
       "      <th>142</th>\n",
       "      <td>[[18.988125613231393, 20.30511474734324, 20.31...</td>\n",
       "      <td>0.001</td>\n",
       "      <td>CartPole-v1</td>\n",
       "      <td>/home/chanb/src/Avg_OPE/exper/cartpole.pth</td>\n",
       "      <td>default</td>\n",
       "      <td>0.3</td>\n",
       "      <td>0.01</td>\n",
       "      <td>5</td>\n",
       "      <td>2000</td>\n",
       "      <td>1</td>\n",
       "      <td>512</td>\n",
       "      <td>40</td>\n",
       "      <td>100</td>\n",
       "      <td>True</td>\n",
       "      <td>False</td>\n",
       "      <td>0.95</td>\n",
       "      <td>0.95</td>\n",
       "      <td>0.0005</td>\n",
       "      <td>/home/chanb/scratch/disc_cop/results/saved_mod...</td>\n",
       "    </tr>\n",
       "    <tr>\n",
       "      <th>143</th>\n",
       "      <td>[[2550.101339704743, 0.19633920484405484, 0.33...</td>\n",
       "      <td>0.005</td>\n",
       "      <td>CartPole-v1</td>\n",
       "      <td>/home/chanb/src/Avg_OPE/exper/cartpole.pth</td>\n",
       "      <td>default</td>\n",
       "      <td>0.3</td>\n",
       "      <td>0.01</td>\n",
       "      <td>5</td>\n",
       "      <td>2000</td>\n",
       "      <td>1</td>\n",
       "      <td>512</td>\n",
       "      <td>40</td>\n",
       "      <td>100</td>\n",
       "      <td>False</td>\n",
       "      <td>True</td>\n",
       "      <td>0.95</td>\n",
       "      <td>0.95</td>\n",
       "      <td>0.0005</td>\n",
       "      <td>/home/chanb/scratch/disc_cop/results/saved_mod...</td>\n",
       "    </tr>\n",
       "  </tbody>\n",
       "</table>\n",
       "<p>144 rows × 19 columns</p>\n",
       "</div>"
      ],
      "text/plain": [
       "                                                errors     lr          env  \\\n",
       "0    [[19.74001724399451, 11.525743643350763, 16.66...  0.001       Ant-v4   \n",
       "1    [[46.14155713133622, 5.674846784833404, 4.7658...  0.005       Ant-v4   \n",
       "2    [[50.662529617441685, 6.418897506078319, 5.129...  0.005       Ant-v4   \n",
       "3    [[19.271652493529896, 10.701166363337775, 16.7...  0.001       Ant-v4   \n",
       "4    [[47.736955960687126, 5.771766157294148, 4.879...  0.005       Ant-v4   \n",
       "..                                                 ...    ...          ...   \n",
       "139  [[58.34516988309245, 4.521298488955746, 13.507...  0.001  CartPole-v1   \n",
       "140  [[27.10121778531593, 26.70229230104881, 18.886...  0.005  CartPole-v1   \n",
       "141  [[37.32690236843865, 3.7611789145518517, 14.92...  0.001  CartPole-v1   \n",
       "142  [[18.988125613231393, 20.30511474734324, 20.31...  0.001  CartPole-v1   \n",
       "143  [[2550.101339704743, 0.19633920484405484, 0.33...  0.005  CartPole-v1   \n",
       "\n",
       "                                    policy_path     link  random_weight  \\\n",
       "0         /home/chanb/src/Avg_OPE/exper/ant.pth  default            2.0   \n",
       "1         /home/chanb/src/Avg_OPE/exper/ant.pth  default            2.0   \n",
       "2         /home/chanb/src/Avg_OPE/exper/ant.pth  default            2.0   \n",
       "3         /home/chanb/src/Avg_OPE/exper/ant.pth  default            2.0   \n",
       "4         /home/chanb/src/Avg_OPE/exper/ant.pth  default            2.0   \n",
       "..                                          ...      ...            ...   \n",
       "139  /home/chanb/src/Avg_OPE/exper/cartpole.pth  default            0.3   \n",
       "140  /home/chanb/src/Avg_OPE/exper/cartpole.pth  default            0.3   \n",
       "141  /home/chanb/src/Avg_OPE/exper/cartpole.pth  default            0.3   \n",
       "142  /home/chanb/src/Avg_OPE/exper/cartpole.pth  default            0.3   \n",
       "143  /home/chanb/src/Avg_OPE/exper/cartpole.pth  default            0.3   \n",
       "\n",
       "     l1_lambda  checkpoint  epoch  cv_fold  batch_size  max_ep  max_len  \\\n",
       "0         0.10           5  50000        1         512      40      100   \n",
       "1         0.00           5  50000        1         512      40      100   \n",
       "2         0.10           5  50000        1         512      40      100   \n",
       "3         0.00           5  50000        1         512      40      100   \n",
       "4         0.01           5  50000        1         512      40      100   \n",
       "..         ...         ...    ...      ...         ...     ...      ...   \n",
       "139       0.00           5   2000        1         512      40      100   \n",
       "140       0.01           5   2000        1         512      40      100   \n",
       "141       0.01           5   2000        1         512      40      100   \n",
       "142       0.01           5   2000        1         512      40      100   \n",
       "143       0.01           5   2000        1         512      40      100   \n",
       "\n",
       "     use_batch_norm  use_target_network  discount  cop_discount     tau  \\\n",
       "0             False                True      0.95          0.95  0.0005   \n",
       "1             False                True      0.95          0.95  0.0005   \n",
       "2             False                True      0.95          0.95  0.0005   \n",
       "3             False                True      0.95          0.95  0.0005   \n",
       "4             False                True      0.95          0.95  0.0005   \n",
       "..              ...                 ...       ...           ...     ...   \n",
       "139           False                True      0.95          0.95  0.0005   \n",
       "140            True               False      0.95          0.95  0.0005   \n",
       "141           False                True      0.95          0.95  0.0005   \n",
       "142            True               False      0.95          0.95  0.0005   \n",
       "143           False                True      0.95          0.95  0.0005   \n",
       "\n",
       "                                             save_path  \n",
       "0    /home/chanb/scratch/disc_cop/results/saved_mod...  \n",
       "1    /home/chanb/scratch/disc_cop/results/saved_mod...  \n",
       "2    /home/chanb/scratch/disc_cop/results/saved_mod...  \n",
       "3    /home/chanb/scratch/disc_cop/results/saved_mod...  \n",
       "4    /home/chanb/scratch/disc_cop/results/saved_mod...  \n",
       "..                                                 ...  \n",
       "139  /home/chanb/scratch/disc_cop/results/saved_mod...  \n",
       "140  /home/chanb/scratch/disc_cop/results/saved_mod...  \n",
       "141  /home/chanb/scratch/disc_cop/results/saved_mod...  \n",
       "142  /home/chanb/scratch/disc_cop/results/saved_mod...  \n",
       "143  /home/chanb/scratch/disc_cop/results/saved_mod...  \n",
       "\n",
       "[144 rows x 19 columns]"
      ]
     },
     "execution_count": 25,
     "metadata": {},
     "output_type": "execute_result"
    }
   ],
   "source": [
    "stats"
   ]
  },
  {
   "cell_type": "code",
   "execution_count": 29,
   "metadata": {},
   "outputs": [
    {
     "data": {
      "text/plain": [
       "Index(['errors', 'lr', 'env', 'policy_path', 'link', 'random_weight',\n",
       "       'l1_lambda', 'checkpoint', 'epoch', 'cv_fold', 'batch_size', 'max_ep',\n",
       "       'max_len', 'use_batch_norm', 'use_target_network', 'discount',\n",
       "       'cop_discount', 'tau', 'save_path'],\n",
       "      dtype='object')"
      ]
     },
     "execution_count": 29,
     "metadata": {},
     "output_type": "execute_result"
    }
   ],
   "source": [
    "stats.keys()"
   ]
  },
  {
   "cell_type": "code",
   "execution_count": 51,
   "metadata": {},
   "outputs": [],
   "source": [
    "agg_res = {\n",
    "    \"mujoco\": [[], []],\n",
    "    \"classic\": [[], []],\n",
    "}\n",
    "for name, group in stats.groupby([\"lr\", \"random_weight\", \"l1_lambda\", \"use_target_network\"]):\n",
    "    if name[1] == 0.3:\n",
    "        key = \"classic\"\n",
    "    else:\n",
    "        key = \"mujoco\"\n",
    "    agg_res[key][0].append(name)\n",
    "    agg_res[key][1].append(np.array(group[\"errors\"].to_list()).mean())"
   ]
  },
  {
   "cell_type": "code",
   "execution_count": 59,
   "metadata": {},
   "outputs": [
    {
     "name": "stdout",
     "output_type": "stream",
     "text": [
      "[  5.05687929  13.13066058  14.19033043  15.61216855  15.89219325\n",
      "  15.93477462  15.93847931  15.9775509   16.30915752  16.35080251\n",
      "  16.44540474  16.63842158  17.11513371  18.22687569  18.29157837\n",
      "  18.70861242  21.99609607  22.24248625  24.73796418  25.41881788\n",
      "  26.2732119   52.01056295 101.65855866 126.85379437]\n",
      "BEST: [0.005 0.3   0.    1.   ] 5.056879291494066\n",
      "[3.43428830e+00 2.95940752e+01 1.89736070e+02 1.33033033e+06\n",
      " 3.48861182e+06 2.73391470e+10 6.41141593e+12 1.80033612e+13\n",
      " 3.77086585e+13 1.24281391e+14 4.11668016e+16 1.01203898e+17\n",
      " 9.25696110e+17 9.63541387e+17 6.91909799e+18 7.00265309e+18\n",
      " 9.82456050e+19 1.89464116e+20 1.98098449e+20 3.33400016e+27\n",
      "            nan            nan            nan            nan]\n",
      "BEST: [1.e-03 2.e+00 0.e+00 1.e+00] 3.4342882952295533\n"
     ]
    }
   ],
   "source": [
    "for family in [\"classic\", \"mujoco\"]:\n",
    "    variants = np.array(agg_res[family][0])\n",
    "    mse_per_variant = np.array(agg_res[family][1])\n",
    "    sort_idxes = np.argsort(mse_per_variant)\n",
    "    \n",
    "    print(mse_per_variant[sort_idxes])\n",
    "\n",
    "    print(\"BEST: {} {}\".format(variants[sort_idxes[0]], mse_per_variant[sort_idxes[0]]))"
   ]
  },
  {
   "cell_type": "code",
   "execution_count": null,
   "metadata": {},
   "outputs": [],
   "source": []
  }
 ],
 "metadata": {
  "kernelspec": {
   "display_name": ".venv",
   "language": "python",
   "name": "python3"
  },
  "language_info": {
   "codemirror_mode": {
    "name": "ipython",
    "version": 3
   },
   "file_extension": ".py",
   "mimetype": "text/x-python",
   "name": "python",
   "nbconvert_exporter": "python",
   "pygments_lexer": "ipython3",
   "version": "3.11.9"
  }
 },
 "nbformat": 4,
 "nbformat_minor": 2
}
